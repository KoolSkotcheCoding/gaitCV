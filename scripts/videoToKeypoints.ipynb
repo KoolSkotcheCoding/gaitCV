{
 "cells": [
  {
   "cell_type": "code",
   "execution_count": 2,
   "metadata": {},
   "outputs": [],
   "source": [
    "pathToVideos='/home/kschuma/Projects/gaitCV/videos/readyForProcessing/'\n",
    "pathToOpenPose='/home/kschuma/Projects/learnopencv/OpenPose/'\n",
    "protoFile = pathToOpenPose+\"pose/mpi/pose_deploy_linevec_faster_4_stages.prototxt\"\n",
    "weightsFile = pathToOpenPose+\"pose/mpi/pose_iter_160000.caffemodel\"\n",
    "net = cv2.dnn.readNetFromCaffe(protoFile, weightsFile)\n",
    "inWidth = 500\n",
    "inHeight = 500\n",
    "threshold = .1\n",
    "for subdir, dirs, files in os.walk(pathToVideos):\n",
    "    continue"
   ]
  },
  {
   "cell_type": "code",
   "execution_count": 3,
   "metadata": {},
   "outputs": [
    {
     "name": "stdout",
     "output_type": "stream",
     "text": [
      "/home/kschuma/Projects/gaitCV/data/man3.dat\n",
      "/home/kschuma/Projects/gaitCV/data/man4.dat\n",
      "/home/kschuma/Projects/gaitCV/data/female5.dat\n",
      "/home/kschuma/Projects/gaitCV/data/female4.dat\n",
      "/home/kschuma/Projects/gaitCV/data/female7.dat\n",
      "/home/kschuma/Projects/gaitCV/data/man6.dat\n",
      "/home/kschuma/Projects/gaitCV/data/female6.dat\n",
      "/home/kschuma/Projects/gaitCV/data/female3.dat\n",
      "/home/kschuma/Projects/gaitCV/data/man2.dat\n",
      "/home/kschuma/Projects/gaitCV/data/mosesClip1.dat\n",
      "/home/kschuma/Projects/gaitCV/data/man5.dat\n",
      "/home/kschuma/Projects/gaitCV/data/man1.dat\n",
      "/home/kschuma/Projects/gaitCV/data/female1.dat\n",
      "/home/kschuma/Projects/gaitCV/data/female2.dat\n",
      "/home/kschuma/Projects/gaitCV/data/man7.dat\n",
      "/home/kschuma/Projects/gaitCV/data/sexes.dat\n"
     ]
    }
   ],
   "source": [
    "counts={}\n",
    "videoMatrix={}\n",
    "for videoNumber,fileName in enumerate(files):\n",
    "    if True:\n",
    "        sex=str(fileName)[:-5]\n",
    "        vidcap = cv2.VideoCapture(pathToVideos+fileName)\n",
    "        success,image = vidcap.read()\n",
    "        count = 0\n",
    "        \n",
    "        while vidcap.isOpened() and count<72:\n",
    "            success, image = vidcap.read()\n",
    "            if success:\n",
    "                matrixPoints=[]\n",
    "                frame=cv2.resize(image, (inWidth, inHeight))\n",
    "                inpBlob = cv2.dnn.blobFromImage(frame, 1.0 / 255, (inWidth, inHeight), (0, 0, 0), swapRB=False, crop=False)\n",
    "                net.setInput(inpBlob)\n",
    "                out = net.forward() \n",
    "                H = out.shape[2]\n",
    "                W = out.shape[3]\n",
    "                for i in range(15):\n",
    "                    probMap = out[0, i, :, :]\n",
    "                    minVal, prob, minLoc, point = cv2.minMaxLoc(probMap)\n",
    "                    x = (frame.shape[1] * point[0]) / W\n",
    "                    y = (frame.shape[0] * point[1]) / H\n",
    "                    if True:\n",
    "                        cv2.circle(frame, (int(x), int(y)), 15, (0, 255, 255), thickness=-1, lineType=cv2.FILLED)\n",
    "                        cv2.putText(frame, \"{}\".format(i), (int(x), int(y)), cv2.FONT_HERSHEY_SIMPLEX, 1.4, (0, 0, 255), 3, lineType=cv2.LINE_AA)\n",
    "                        matrixPoints.append(int(x))\n",
    "                        matrixPoints.append(int(y))\n",
    "                videoMatrix[count]=matrixPoints\n",
    "                count += 1\n",
    "            else:\n",
    "                break\n",
    "            fullVideo=np.array([videoMatrix[i] for i in range(count)])\n",
    "        if videoNumber==0:\n",
    "            sexes=[sex[0]]\n",
    "            #fullMatrix= fullVideo\n",
    "        else:\n",
    "            sexes.append(sex[0])\n",
    "            #fullMatrix=np.dstack((fullMatrix,fullVideo))\n",
    "        cv2.destroyAllWindows()\n",
    "        vidcap.release()\n",
    "        outFile = \"/home/kschuma/Projects/gaitCV/data/\"+fileName[:-4]+\".dat\"\n",
    "        print(outFile)\n",
    "        fileobj = open(outFile, mode='wb')\n",
    "        np.save(fileobj,fullVideo)\n",
    "        fileobj.close()\n",
    "        \n",
    "sexFile = \"/home/kschuma/Projects/gaitCV/data/sexes.dat\"\n",
    "print(sexFile)\n",
    "fileobj = open(sexFile, mode='wb')\n",
    "np.save(fileobj,sexes)\n",
    "fileobj.close()\n",
    "        \n",
    "    \n",
    "\n",
    "#print videoMatrix\n"
   ]
  }
 ],
 "metadata": {
  "kernelspec": {
   "display_name": "Python 2",
   "language": "python",
   "name": "python2"
  },
  "language_info": {
   "codemirror_mode": {
    "name": "ipython",
    "version": 2
   },
   "file_extension": ".py",
   "mimetype": "text/x-python",
   "name": "python",
   "nbconvert_exporter": "python",
   "pygments_lexer": "ipython2",
   "version": "2.7.15rc1"
  }
 },
 "nbformat": 4,
 "nbformat_minor": 2
}
