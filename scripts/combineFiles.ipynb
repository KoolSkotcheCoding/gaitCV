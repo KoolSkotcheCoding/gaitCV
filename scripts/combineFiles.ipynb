{
 "cells": [
  {
   "cell_type": "code",
   "execution_count": 5,
   "metadata": {},
   "outputs": [],
   "source": [
    "import cv2\n",
    "import sys\n",
    "import numpy as np  \n",
    "import os\n",
    "    \n",
    "    "
   ]
  },
  {
   "cell_type": "code",
   "execution_count": 6,
   "metadata": {},
   "outputs": [],
   "source": [
    "pathToData='/home/kschuma/Projects/gaitCV/data/'"
   ]
  },
  {
   "cell_type": "code",
   "execution_count": 34,
   "metadata": {},
   "outputs": [
    {
     "name": "stdout",
     "output_type": "stream",
     "text": [
      "[1, 1, 1, 0, 0, 0, 1, 0, 1, 1, 0, 1, 0, 0, 1]\n"
     ]
    }
   ],
   "source": [
    "for subdir, dirs, files in os.walk(pathToData):\n",
    "    continue\n",
    "sexes=[]\n",
    "matrices=[]\n",
    "for i,dataFile in enumerate(files):\n",
    "    #print dataFile\n",
    "    if dataFile!='sexes.dat':\n",
    "        sexes.append(dataFile[0])\n",
    "        fileobj = open(pathToData+dataFile, mode='r')\n",
    "        matrix=np.load(fileobj)\n",
    "        if dataFile=='man5.dat':\n",
    "            matrix=np.insert(matrix,71,matrix[70],axis=0)\n",
    "        matrices.append(matrix)\n",
    "\n",
    "sexData=[]\n",
    "for sex in sexes:\n",
    "    if sex=='m':\n",
    "        sexData.append(1)\n",
    "    else:\n",
    "        sexData.append(0)\n",
    "        \n",
    "fullMatrix=np.dstack(tuple(matrices))\n",
    "fullMatrix.shape\n",
    "print sexData\n",
    "        #print sexes        \n",
    "\n",
    "outFile = \"/home/kschuma/Projects/gaitCV/data/data.dat\"\n",
    "fileobj = open(outFile, mode='wb')\n",
    "np.save(fileobj,matrices)\n",
    "fileobj.close()\n",
    "\n",
    "outFile = \"/home/kschuma/Projects/gaitCV/data/sexData.dat\"\n",
    "fileobj = open(outFile, mode='wb')\n",
    "np.save(fileobj,sexData)\n",
    "fileobj.close()"
   ]
  },
  {
   "cell_type": "code",
   "execution_count": 35,
   "metadata": {},
   "outputs": [
    {
     "data": {
      "text/plain": [
       "(15, 72, 30)"
      ]
     },
     "execution_count": 35,
     "metadata": {},
     "output_type": "execute_result"
    }
   ],
   "source": [
    "fileobj = open(pathToData+'data.dat', mode='r')\n",
    "matrix=np.load(fileobj)\n",
    "matrix.shape"
   ]
  }
 ],
 "metadata": {
  "kernelspec": {
   "display_name": "Python 2",
   "language": "python",
   "name": "python2"
  },
  "language_info": {
   "codemirror_mode": {
    "name": "ipython",
    "version": 2
   },
   "file_extension": ".py",
   "mimetype": "text/x-python",
   "name": "python",
   "nbconvert_exporter": "python",
   "pygments_lexer": "ipython2",
   "version": "2.7.15rc1"
  }
 },
 "nbformat": 4,
 "nbformat_minor": 2
}
