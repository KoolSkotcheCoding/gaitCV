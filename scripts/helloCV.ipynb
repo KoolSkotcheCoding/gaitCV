{
 "cells": [
  {
   "cell_type": "code",
   "execution_count": null,
   "metadata": {},
   "outputs": [],
   "source": [
    "import sys\n",
    "import numpy as np\n",
    "import cv2\n",
    "pathToOpenPose='/home/kschuma/Projects/learnopencv/OpenPose/'"
   ]
  },
  {
   "cell_type": "code",
   "execution_count": null,
   "metadata": {},
   "outputs": [],
   "source": [
    "# Specify the paths for the 2 files\n",
    "protoFile = pathToOpenPose+\"pose/mpi/pose_deploy_linevec_faster_4_stages.prototxt\"\n",
    "weightsFile = pathToOpenPose+\"pose/mpi/pose_iter_160000.caffemodel\"\n",
    " \n",
    "# Read the network into Memory\n",
    "net = cv2.dnn.readNetFromCaffe(protoFile, weightsFile)"
   ]
  },
  {
   "cell_type": "code",
   "execution_count": null,
   "metadata": {},
   "outputs": [],
   "source": [
    "# Read image\n",
    "frame = cv2.imread(pathToOpenPose+\"single.jpeg\")\n",
    " \n",
    "# Specify the input image dimensions\n",
    "#original\n",
    "#inWidth = 368\n",
    "#inHeight = 368\n",
    "\n",
    "#new\n",
    "inWidth = 500\n",
    "inHeight = 500\n",
    "\n",
    "#resize\n",
    "frame = cv2.resize(frame, (inWidth, inHeight))\n",
    "\n",
    "# Prepare the frame to be fed to the network\n",
    "inpBlob = cv2.dnn.blobFromImage(frame, 1.0 / 255, (inWidth, inHeight), (0, 0, 0), swapRB=False, crop=False)\n",
    " \n",
    "# Set the prepared object as the input blob of the network\n",
    "net.setInput(inpBlob)"
   ]
  },
  {
   "cell_type": "code",
   "execution_count": null,
   "metadata": {},
   "outputs": [],
   "source": [
    "out = net.forward()"
   ]
  },
  {
   "cell_type": "code",
   "execution_count": null,
   "metadata": {},
   "outputs": [],
   "source": [
    "threshold = .1\n",
    "H = out.shape[2]\n",
    "W = out.shape[3]\n",
    "# Empty list to store the detected keypoints\n",
    "points = []\n",
    "for i in range(15):\n",
    "    # confidence map of corresponding body's part.\n",
    "    probMap = out[0, i, :, :]\n",
    " \n",
    "    # Find global maxima of the probMap.\n",
    "    minVal, prob, minLoc, point = cv2.minMaxLoc(probMap)\n",
    "     \n",
    "    # Scale the point to fit on the original image\n",
    "    x = (frame.shape[1] * point[0]) / W\n",
    "    y = (frame.shape[0] * point[1]) / H\n",
    "    #print prob\n",
    "    if prob > threshold : \n",
    "        cv2.circle(frame, (int(x), int(y)), 15, (0, 255, 255), thickness=-1, lineType=cv2.FILLED)\n",
    "        cv2.putText(frame, \"{}\".format(i), (int(x), int(y)), cv2.FONT_HERSHEY_SIMPLEX, 1.4, (0, 0, 255), 3, lineType=cv2.LINE_AA)\n",
    " \n",
    "        # Add the point to the list if the probability is greater than the threshold\n",
    "        points.append((int(x), int(y)))\n",
    "    else :\n",
    "        points.append(None)\n",
    " \n",
    "cv2.imshow(\"Output-Keypoints\",frame)\n",
    "cv2.waitKey(0)\n",
    "cv2.destroyAllWindows()"
   ]
  },
  {
   "cell_type": "code",
   "execution_count": null,
   "metadata": {},
   "outputs": [],
   "source": []
  }
 ],
 "metadata": {
  "kernelspec": {
   "display_name": "Python 2",
   "language": "python",
   "name": "python2"
  },
  "language_info": {
   "codemirror_mode": {
    "name": "ipython",
    "version": 2
   },
   "file_extension": ".py",
   "mimetype": "text/x-python",
   "name": "python",
   "nbconvert_exporter": "python",
   "pygments_lexer": "ipython2",
   "version": "2.7.15rc1"
  }
 },
 "nbformat": 4,
 "nbformat_minor": 2
}
